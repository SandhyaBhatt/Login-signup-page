{
  "cells": [
    {
      "cell_type": "code",
      "execution_count": 43,
      "id": "2068b0ca-36d2-45bd-936a-c9aad94a1ed0",
      "metadata": {
        "id": "2068b0ca-36d2-45bd-936a-c9aad94a1ed0"
      },
      "outputs": [],
      "source": [
        "import pandas as pd\n",
        "import numpy as np\n",
        "from sklearn.preprocessing import MinMaxScaler\n",
        "from tensorflow.keras.models import Sequential\n",
        "from tensorflow.keras.layers import LSTM, Dense, Dropout, Input\n",
        "from sklearn.metrics import mean_absolute_error, mean_squared_error\n",
        "import dash\n",
        "from dash import dcc, html\n",
        "import plotly.graph_objs as go"
      ]
    },
    {
      "cell_type": "code",
      "execution_count": 44,
      "id": "f547881f-cb4e-488b-83ec-845b8c7c7d5a",
      "metadata": {
        "id": "f547881f-cb4e-488b-83ec-845b8c7c7d5a"
      },
      "outputs": [],
      "source": [
        "df = pd.read_csv(r'/content/CIPLA.csv')"
      ]
    },
    {
      "cell_type": "code",
      "execution_count": 45,
      "id": "d8bdd7d4-5f15-4dac-9901-847e14436674",
      "metadata": {
        "id": "d8bdd7d4-5f15-4dac-9901-847e14436674"
      },
      "outputs": [],
      "source": [
        "df['Date'] = pd.to_datetime(df['Date'])\n",
        "df.sort_values('Date', inplace=True)"
      ]
    },
    {
      "cell_type": "code",
      "execution_count": 46,
      "id": "bcfda4c2-a841-4fa7-a483-52037efaaa1f",
      "metadata": {
        "id": "bcfda4c2-a841-4fa7-a483-52037efaaa1f"
      },
      "outputs": [],
      "source": [
        "df['MA_10'] = df['Close'].rolling(window=10).mean()\n",
        "df['MA_50'] = df['Close'].rolling(window=50).mean()\n",
        "df['EMA_10'] = df['Close'].ewm(span=10, adjust=False).mean()"
      ]
    },
    {
      "cell_type": "code",
      "execution_count": 47,
      "id": "aef461e6-0931-42d3-a75d-fc11ec70f47e",
      "metadata": {
        "id": "aef461e6-0931-42d3-a75d-fc11ec70f47e"
      },
      "outputs": [],
      "source": [
        "delta = df['Close'].diff()\n",
        "gain = (delta.where(delta > 0, 0)).rolling(window=14).mean()\n",
        "loss = (-delta.where(delta < 0, 0)).rolling(window=14).mean()\n",
        "rs = gain / loss\n",
        "df['RSI'] = 100 - (100 / (1 + rs))"
      ]
    },
    {
      "cell_type": "code",
      "execution_count": 48,
      "id": "1b6215e2-b06e-45cc-ba89-64e3dada7ce9",
      "metadata": {
        "id": "1b6215e2-b06e-45cc-ba89-64e3dada7ce9"
      },
      "outputs": [],
      "source": [
        "df.bfill(inplace=True)"
      ]
    },
    {
      "cell_type": "code",
      "execution_count": 49,
      "id": "6dae0428-6fd2-46cb-81b3-7934e21fa408",
      "metadata": {
        "id": "6dae0428-6fd2-46cb-81b3-7934e21fa408"
      },
      "outputs": [],
      "source": [
        "features = ['Close', 'MA_10', 'MA_50', 'EMA_10', 'RSI']\n",
        "data = df[features].values"
      ]
    },
    {
      "cell_type": "code",
      "execution_count": 50,
      "id": "6a828409-b60b-472c-8dd8-22f60ac055ef",
      "metadata": {
        "id": "6a828409-b60b-472c-8dd8-22f60ac055ef"
      },
      "outputs": [],
      "source": [
        "data = df[['Close']].values"
      ]
    },
    {
      "cell_type": "code",
      "execution_count": 51,
      "id": "8f22a3e8-b99e-4293-9b38-c22d817fc421",
      "metadata": {
        "id": "8f22a3e8-b99e-4293-9b38-c22d817fc421"
      },
      "outputs": [],
      "source": [
        "scaler = MinMaxScaler(feature_range=(0, 1))\n",
        "scaled_data = scaler.fit_transform(data)"
      ]
    },
    {
      "cell_type": "code",
      "execution_count": 52,
      "id": "b3567fc6-4681-4ac0-a9fc-0140952ecd40",
      "metadata": {
        "id": "b3567fc6-4681-4ac0-a9fc-0140952ecd40"
      },
      "outputs": [],
      "source": [
        "def create_sequences(data, seq_length):\n",
        "    x, y = [], []\n",
        "    for i in range(len(data) - seq_length):\n",
        "        x.append(data[i:i + seq_length])\n",
        "        y.append(data[i + seq_length])\n",
        "    return np.array(x), np.array(y)"
      ]
    },
    {
      "cell_type": "code",
      "execution_count": 53,
      "id": "f58d3b7e-d990-4254-8cfe-9a558e14ee57",
      "metadata": {
        "id": "f58d3b7e-d990-4254-8cfe-9a558e14ee57"
      },
      "outputs": [],
      "source": [
        "seq_length = 60\n",
        "x, y = create_sequences(scaled_data, seq_length)"
      ]
    },
    {
      "cell_type": "code",
      "execution_count": 54,
      "id": "3735e2e0-248b-4207-9d86-d1ef0d79a1fc",
      "metadata": {
        "id": "3735e2e0-248b-4207-9d86-d1ef0d79a1fc"
      },
      "outputs": [],
      "source": [
        "train_size = int(len(x) * 0.8)\n",
        "x_train, x_test = x[:train_size], x[train_size:]\n",
        "y_train, y_test = y[:train_size], y[train_size:]\n"
      ]
    },
    {
      "cell_type": "code",
      "execution_count": 55,
      "id": "5ce5b57e-b364-4ae9-a5f9-525c1f439aba",
      "metadata": {
        "id": "5ce5b57e-b364-4ae9-a5f9-525c1f439aba"
      },
      "outputs": [],
      "source": [
        "model = Sequential([\n",
        "    Input(shape=(x_train.shape[1], x_train.shape[2])),\n",
        "    LSTM(50, return_sequences=True),\n",
        "    Dropout(0.2),\n",
        "    LSTM(50, return_sequences=False),\n",
        "    Dropout(0.2),\n",
        "    Dense(25),\n",
        "    Dense(1)\n",
        "])"
      ]
    },
    {
      "cell_type": "code",
      "execution_count": 56,
      "id": "498404b0-e633-4651-8d9a-ef7247b58c32",
      "metadata": {
        "id": "498404b0-e633-4651-8d9a-ef7247b58c32"
      },
      "outputs": [],
      "source": [
        "model.compile(optimizer='adam', loss='mean_squared_error')"
      ]
    },
    {
      "cell_type": "code",
      "execution_count": 57,
      "id": "0acc50c0-68ad-4f4c-b5fb-1de86dac6ba8",
      "metadata": {
        "id": "0acc50c0-68ad-4f4c-b5fb-1de86dac6ba8",
        "outputId": "95c6e9ce-046b-4516-a86c-5315870ab309",
        "colab": {
          "base_uri": "https://localhost:8080/"
        }
      },
      "outputs": [
        {
          "output_type": "stream",
          "name": "stdout",
          "text": [
            "Epoch 1/10\n",
            "\u001b[1m4196/4196\u001b[0m \u001b[32m━━━━━━━━━━━━━━━━━━━━\u001b[0m\u001b[37m\u001b[0m \u001b[1m124s\u001b[0m 29ms/step - loss: 0.0052\n",
            "Epoch 2/10\n",
            "\u001b[1m4196/4196\u001b[0m \u001b[32m━━━━━━━━━━━━━━━━━━━━\u001b[0m\u001b[37m\u001b[0m \u001b[1m142s\u001b[0m 29ms/step - loss: 0.0017\n",
            "Epoch 3/10\n",
            "\u001b[1m4196/4196\u001b[0m \u001b[32m━━━━━━━━━━━━━━━━━━━━\u001b[0m\u001b[37m\u001b[0m \u001b[1m143s\u001b[0m 29ms/step - loss: 0.0022\n",
            "Epoch 4/10\n",
            "\u001b[1m4196/4196\u001b[0m \u001b[32m━━━━━━━━━━━━━━━━━━━━\u001b[0m\u001b[37m\u001b[0m \u001b[1m142s\u001b[0m 29ms/step - loss: 0.0017\n",
            "Epoch 5/10\n",
            "\u001b[1m4196/4196\u001b[0m \u001b[32m━━━━━━━━━━━━━━━━━━━━\u001b[0m\u001b[37m\u001b[0m \u001b[1m142s\u001b[0m 29ms/step - loss: 0.0015\n",
            "Epoch 6/10\n",
            "\u001b[1m4196/4196\u001b[0m \u001b[32m━━━━━━━━━━━━━━━━━━━━\u001b[0m\u001b[37m\u001b[0m \u001b[1m121s\u001b[0m 29ms/step - loss: 0.0012\n",
            "Epoch 7/10\n",
            "\u001b[1m4196/4196\u001b[0m \u001b[32m━━━━━━━━━━━━━━━━━━━━\u001b[0m\u001b[37m\u001b[0m \u001b[1m145s\u001b[0m 29ms/step - loss: 0.0013\n",
            "Epoch 8/10\n",
            "\u001b[1m4196/4196\u001b[0m \u001b[32m━━━━━━━━━━━━━━━━━━━━\u001b[0m\u001b[37m\u001b[0m \u001b[1m121s\u001b[0m 29ms/step - loss: 0.0011\n",
            "Epoch 9/10\n",
            "\u001b[1m4196/4196\u001b[0m \u001b[32m━━━━━━━━━━━━━━━━━━━━\u001b[0m\u001b[37m\u001b[0m \u001b[1m142s\u001b[0m 29ms/step - loss: 0.0012\n",
            "Epoch 10/10\n",
            "\u001b[1m4196/4196\u001b[0m \u001b[32m━━━━━━━━━━━━━━━━━━━━\u001b[0m\u001b[37m\u001b[0m \u001b[1m143s\u001b[0m 29ms/step - loss: 0.0014\n"
          ]
        },
        {
          "output_type": "execute_result",
          "data": {
            "text/plain": [
              "<keras.src.callbacks.history.History at 0x7e856f765610>"
            ]
          },
          "metadata": {},
          "execution_count": 57
        }
      ],
      "source": [
        "model.fit(x_train, y_train, batch_size=1, epochs=10)"
      ]
    },
    {
      "cell_type": "code",
      "execution_count": 58,
      "id": "77361d3f-7ebf-42d7-8018-17f3c8f6e0b2",
      "metadata": {
        "id": "77361d3f-7ebf-42d7-8018-17f3c8f6e0b2",
        "outputId": "c935a7dd-29ba-4b5f-8818-cdc09709d172",
        "colab": {
          "base_uri": "https://localhost:8080/"
        }
      },
      "outputs": [
        {
          "output_type": "stream",
          "name": "stdout",
          "text": [
            "\u001b[1m33/33\u001b[0m \u001b[32m━━━━━━━━━━━━━━━━━━━━\u001b[0m\u001b[37m\u001b[0m \u001b[1m2s\u001b[0m 39ms/step\n"
          ]
        }
      ],
      "source": [
        "predictions = model.predict(x_test)\n"
      ]
    },
    {
      "cell_type": "code",
      "execution_count": 59,
      "id": "0733c608-b334-4bd6-a7bf-f7dfee41a3a3",
      "metadata": {
        "id": "0733c608-b334-4bd6-a7bf-f7dfee41a3a3"
      },
      "outputs": [],
      "source": [
        "predictions = scaler.inverse_transform(\n",
        "    np.concatenate((predictions, np.zeros((predictions.shape[0], scaled_data.shape[1] - 1))), axis=1)\n",
        ")[:, 0]"
      ]
    },
    {
      "cell_type": "code",
      "execution_count": 60,
      "id": "799fca5a-4c6a-493c-b135-eb4e8a0b7125",
      "metadata": {
        "id": "799fca5a-4c6a-493c-b135-eb4e8a0b7125"
      },
      "outputs": [],
      "source": [
        "y_test = scaler.inverse_transform(\n",
        "    np.concatenate((y_test.reshape(-1, 1), np.zeros((y_test.shape[0], scaled_data.shape[1] - 1))), axis=1)\n",
        ")[:, 0]"
      ]
    },
    {
      "cell_type": "code",
      "execution_count": 61,
      "id": "ede0d865-da07-42a5-bf8e-de32029a3d02",
      "metadata": {
        "id": "ede0d865-da07-42a5-bf8e-de32029a3d02"
      },
      "outputs": [],
      "source": [
        "mae = mean_absolute_error(y_test, predictions)\n",
        "rmse = np.sqrt(mean_squared_error(y_test, predictions))"
      ]
    },
    {
      "cell_type": "code",
      "execution_count": 62,
      "id": "e7d5efd4-4896-4b70-a55a-a95b460bf3d2",
      "metadata": {
        "id": "e7d5efd4-4896-4b70-a55a-a95b460bf3d2",
        "outputId": "83cdc22a-75c6-4c6e-d35d-f399f45c1dc2",
        "colab": {
          "base_uri": "https://localhost:8080/"
        }
      },
      "outputs": [
        {
          "output_type": "stream",
          "name": "stdout",
          "text": [
            "Mean Absolute Error: 7.878418266993197\n",
            "Root Mean Squared Error: 11.475491187886199\n"
          ]
        }
      ],
      "source": [
        "print(f\"Mean Absolute Error: {mae}\")\n",
        "print(f\"Root Mean Squared Error: {rmse}\")"
      ]
    },
    {
      "cell_type": "code",
      "execution_count": 63,
      "id": "c8d644af-8d59-4573-8f8c-dac08849b921",
      "metadata": {
        "id": "c8d644af-8d59-4573-8f8c-dac08849b921"
      },
      "outputs": [],
      "source": [
        "df_test = df.iloc[-len(y_test):].copy()\n",
        "df_test.loc[:,'Predictions'] = predictions"
      ]
    },
    {
      "cell_type": "code",
      "execution_count": 65,
      "id": "859f90d8-bafe-47f3-b35b-7f353092abd4",
      "metadata": {
        "id": "859f90d8-bafe-47f3-b35b-7f353092abd4",
        "outputId": "9d388cff-187c-40b3-eee4-5716b2f8713b",
        "colab": {
          "base_uri": "https://localhost:8080/",
          "height": 672
        }
      },
      "outputs": [
        {
          "output_type": "display_data",
          "data": {
            "text/plain": [
              "<IPython.core.display.Javascript object>"
            ],
            "application/javascript": [
              "(async (port, path, width, height, cache, element) => {\n",
              "    if (!google.colab.kernel.accessAllowed && !cache) {\n",
              "      return;\n",
              "    }\n",
              "    element.appendChild(document.createTextNode(''));\n",
              "    const url = await google.colab.kernel.proxyPort(port, {cache});\n",
              "    const iframe = document.createElement('iframe');\n",
              "    iframe.src = new URL(path, url).toString();\n",
              "    iframe.height = height;\n",
              "    iframe.width = width;\n",
              "    iframe.style.border = 0;\n",
              "    iframe.allow = [\n",
              "        'accelerometer',\n",
              "        'autoplay',\n",
              "        'camera',\n",
              "        'clipboard-read',\n",
              "        'clipboard-write',\n",
              "        'gyroscope',\n",
              "        'magnetometer',\n",
              "        'microphone',\n",
              "        'serial',\n",
              "        'usb',\n",
              "        'xr-spatial-tracking',\n",
              "    ].join('; ');\n",
              "    element.appendChild(iframe);\n",
              "  })(8050, \"/\", \"100%\", 650, false, window.element)"
            ]
          },
          "metadata": {}
        }
      ],
      "source": [
        "app = dash.Dash(__name__)\n",
        "\n",
        "app.layout = html.Div([\n",
        "    html.H1(\"CIPLA Stock Price Visualization and Forecasting\"),\n",
        "    dcc.Graph(\n",
        "        id='historical-data',\n",
        "        figure={\n",
        "            'data': [\n",
        "                go.Scatter(x=df['Date'], y=df['Close'], mode='lines', name='Actual Prices'),\n",
        "                go.Scatter(x=df_test['Date'], y=df_test['Predictions'], mode='lines', name='Predicted Prices')\n",
        "            ],\n",
        "            'layout': go.Layout(\n",
        "                title='CIPLA Stock Prices',\n",
        "                xaxis={'title': 'Date'},\n",
        "                yaxis={'title': 'Price'},\n",
        "                hovermode='closest'\n",
        "            )\n",
        "        }\n",
        "    ),\n",
        "    html.Div([\n",
        "        html.H3(f\"Mean Absolute Error: {mae:.2f}\"),\n",
        "        html.H3(f\"Root Mean Squared Error: {rmse:.2f}\")\n",
        "    ])\n",
        "])\n",
        "\n",
        "if __name__ == '__main__':\n",
        "    app.run(debug=True)"
      ]
    },
    {
      "cell_type": "code",
      "execution_count": null,
      "id": "f1e6aad6-3fdb-40cb-9e0f-c60c49f914a9",
      "metadata": {
        "id": "f1e6aad6-3fdb-40cb-9e0f-c60c49f914a9"
      },
      "outputs": [],
      "source": []
    }
  ],
  "metadata": {
    "kernelspec": {
      "display_name": "Python 3 (ipykernel)",
      "language": "python",
      "name": "python3"
    },
    "language_info": {
      "codemirror_mode": {
        "name": "ipython",
        "version": 3
      },
      "file_extension": ".py",
      "mimetype": "text/x-python",
      "name": "python",
      "nbconvert_exporter": "python",
      "pygments_lexer": "ipython3",
      "version": "3.12.7"
    },
    "colab": {
      "provenance": []
    }
  },
  "nbformat": 4,
  "nbformat_minor": 5
}